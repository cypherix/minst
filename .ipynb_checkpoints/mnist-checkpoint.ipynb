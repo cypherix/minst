{
 "cells": [
  {
   "cell_type": "code",
   "execution_count": 1,
   "metadata": {},
   "outputs": [
    {
     "name": "stderr",
     "output_type": "stream",
     "text": [
      "Using TensorFlow backend.\n"
     ]
    }
   ],
   "source": [
    "#Trying out CNN on MNIST Library\n",
    "\n",
    "#Importing the dataset\n",
    "from keras.models import Sequential\n",
    "from keras.layers import Convolution2D\n",
    "from keras.layers import MaxPooling2D\n",
    "from keras.layers import Flatten\n",
    "from keras.layers import Dense"
   ]
  },
  {
   "cell_type": "code",
   "execution_count": 5,
   "metadata": {},
   "outputs": [],
   "source": [
    "#Initializing the CNN as Sequential Model\n",
    "classifier = Sequential()\n",
    "\n",
    "#First Convolutional layer\n",
    "classifier.add(Convolution2D(32, (3,3), input_shape=(28, 28, 3), activation = 'relu'))\n",
    "\n",
    "#Pooling\n",
    "classifier.add(MaxPooling2D(pool_size = (2, 2), strides = 1))\n",
    "\n",
    "#Flattening\n",
    "classifier.add(Flatten())\n",
    "\n",
    "#Full Connection\n",
    "classifier.add(Dense(units = 128, activation = 'relu'))\n",
    "classifier.add(Dense(units = 10, activation = 'softmax'))\n",
    "\n",
    "classifier.compile(optimizer = 'adam', loss = 'categorical_crossentropy', metrics = ['accuracy'])"
   ]
  },
  {
   "cell_type": "code",
   "execution_count": 6,
   "metadata": {},
   "outputs": [
    {
     "name": "stdout",
     "output_type": "stream",
     "text": [
      "Found 42000 images belonging to 10 classes.\n"
     ]
    }
   ],
   "source": [
    "from keras.preprocessing.image import ImageDataGenerator\n",
    "train_datagen = ImageDataGenerator(\n",
    "        rescale=1./255,\n",
    "        shear_range=0.2,\n",
    "        zoom_range=0.2,\n",
    "        horizontal_flip=True)\n",
    "\n",
    "test_datagen = ImageDataGenerator(rescale=1./255)\n",
    "\n",
    "training_set = train_datagen.flow_from_directory('dataset/trainingSet',\n",
    "                                                  target_size=(28, 28),\n",
    "                                                  batch_size=32,\n",
    "                                                  class_mode='categorical')"
   ]
  },
  {
   "cell_type": "code",
   "execution_count": 7,
   "metadata": {},
   "outputs": [
    {
     "name": "stdout",
     "output_type": "stream",
     "text": [
      "Epoch 1/25\n",
      "250/250 [==============================] - 39s 156ms/step - loss: 0.5960 - acc: 0.8048\n",
      "Epoch 2/25\n",
      "250/250 [==============================] - 39s 156ms/step - loss: 0.2876 - acc: 0.9103\n",
      "Epoch 3/25\n",
      "250/250 [==============================] - 37s 150ms/step - loss: 0.2289 - acc: 0.9250\n",
      "Epoch 4/25\n",
      "250/250 [==============================] - 40s 159ms/step - loss: 0.1931 - acc: 0.9394\n",
      "Epoch 5/25\n",
      "250/250 [==============================] - 42s 169ms/step - loss: 0.1718 - acc: 0.9479\n",
      "Epoch 6/25\n",
      "250/250 [==============================] - 19s 77ms/step - loss: 0.1525 - acc: 0.9506\n",
      "Epoch 7/25\n",
      "250/250 [==============================] - 11s 43ms/step - loss: 0.1319 - acc: 0.9600\n",
      "Epoch 8/25\n",
      "250/250 [==============================] - 11s 43ms/step - loss: 0.1249 - acc: 0.9621\n",
      "Epoch 9/25\n",
      "250/250 [==============================] - 11s 44ms/step - loss: 0.1200 - acc: 0.9637\n",
      "Epoch 10/25\n",
      "250/250 [==============================] - 11s 43ms/step - loss: 0.1035 - acc: 0.9665\n",
      "Epoch 11/25\n",
      "250/250 [==============================] - 11s 44ms/step - loss: 0.1042 - acc: 0.9678\n",
      "Epoch 12/25\n",
      "250/250 [==============================] - 11s 44ms/step - loss: 0.1012 - acc: 0.9665\n",
      "Epoch 13/25\n",
      "250/250 [==============================] - 11s 43ms/step - loss: 0.0992 - acc: 0.9689\n",
      "Epoch 14/25\n",
      "250/250 [==============================] - 11s 44ms/step - loss: 0.0968 - acc: 0.9702\n",
      "Epoch 15/25\n",
      "250/250 [==============================] - 11s 44ms/step - loss: 0.0977 - acc: 0.9696\n",
      "Epoch 16/25\n",
      "250/250 [==============================] - 11s 44ms/step - loss: 0.0906 - acc: 0.9702\n",
      "Epoch 17/25\n",
      "250/250 [==============================] - 11s 44ms/step - loss: 0.0746 - acc: 0.9768\n",
      "Epoch 18/25\n",
      "250/250 [==============================] - 11s 45ms/step - loss: 0.0764 - acc: 0.9755\n",
      "Epoch 19/25\n",
      "250/250 [==============================] - 11s 44ms/step - loss: 0.0729 - acc: 0.9759\n",
      "Epoch 20/25\n",
      "250/250 [==============================] - 11s 44ms/step - loss: 0.0888 - acc: 0.9708\n",
      "Epoch 21/25\n",
      "250/250 [==============================] - 11s 44ms/step - loss: 0.0800 - acc: 0.9738\n",
      "Epoch 22/25\n",
      "250/250 [==============================] - 11s 44ms/step - loss: 0.0700 - acc: 0.9770\n",
      "Epoch 23/25\n",
      "250/250 [==============================] - 11s 44ms/step - loss: 0.0726 - acc: 0.9769\n",
      "Epoch 24/25\n",
      "250/250 [==============================] - 11s 44ms/step - loss: 0.0787 - acc: 0.9752\n",
      "Epoch 25/25\n",
      "250/250 [==============================] - 11s 44ms/step - loss: 0.0601 - acc: 0.9812\n"
     ]
    },
    {
     "data": {
      "text/plain": [
       "<keras.callbacks.History at 0x2901538fe80>"
      ]
     },
     "execution_count": 7,
     "metadata": {},
     "output_type": "execute_result"
    }
   ],
   "source": [
    "classifier.fit_generator(training_set,\n",
    "               steps_per_epoch=8000/32,\n",
    "               epochs=25)"
   ]
  },
  {
   "cell_type": "code",
   "execution_count": 21,
   "metadata": {},
   "outputs": [],
   "source": [
    "classifier.save('model.h5')"
   ]
  }
 ],
 "metadata": {
  "kernelspec": {
   "display_name": "Python 3",
   "language": "python",
   "name": "python3"
  },
  "language_info": {
   "codemirror_mode": {
    "name": "ipython",
    "version": 3
   },
   "file_extension": ".py",
   "mimetype": "text/x-python",
   "name": "python",
   "nbconvert_exporter": "python",
   "pygments_lexer": "ipython3",
   "version": "3.5.5"
  }
 },
 "nbformat": 4,
 "nbformat_minor": 2
}
